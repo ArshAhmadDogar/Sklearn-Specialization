{
 "cells": [
  {
   "cell_type": "code",
   "execution_count": 46,
   "metadata": {},
   "outputs": [],
   "source": [
    "import numpy as np \n",
    "import pandas as pd"
   ]
  },
  {
   "cell_type": "code",
   "execution_count": 47,
   "metadata": {},
   "outputs": [],
   "source": [
    "#input file\n",
    "fin = open(\"books.txt\", \"rt\")\n",
    "#output file to write the result to\n",
    "fout = open(\"mybooks.txt\", \"wt\")\n",
    "#for each line in the input file\n",
    "for line in fin:\n",
    "\t#read replace the string and write to output file\n",
    "\tfout.write(line.replace(';', ','))\n",
    "#close input and output files\n",
    "fin.close()\n",
    "fout.close()"
   ]
  },
  {
   "cell_type": "code",
   "execution_count": 48,
   "metadata": {},
   "outputs": [
    {
     "data": {
      "text/html": [
       "<div>\n",
       "<style scoped>\n",
       "    .dataframe tbody tr th:only-of-type {\n",
       "        vertical-align: middle;\n",
       "    }\n",
       "\n",
       "    .dataframe tbody tr th {\n",
       "        vertical-align: top;\n",
       "    }\n",
       "\n",
       "    .dataframe thead th {\n",
       "        text-align: right;\n",
       "    }\n",
       "</style>\n",
       "<table border=\"1\" class=\"dataframe\">\n",
       "  <thead>\n",
       "    <tr style=\"text-align: right;\">\n",
       "      <th></th>\n",
       "      <th>item0</th>\n",
       "      <th>item1</th>\n",
       "      <th>item2</th>\n",
       "      <th>item3</th>\n",
       "      <th>item4</th>\n",
       "      <th>item5</th>\n",
       "      <th>item6</th>\n",
       "      <th>item7</th>\n",
       "      <th>item8</th>\n",
       "      <th>item9</th>\n",
       "      <th>...</th>\n",
       "      <th>item29</th>\n",
       "      <th>item30</th>\n",
       "      <th>item31</th>\n",
       "      <th>item32</th>\n",
       "      <th>item33</th>\n",
       "      <th>item34</th>\n",
       "      <th>item35</th>\n",
       "      <th>item36</th>\n",
       "      <th>item37</th>\n",
       "      <th>item38</th>\n",
       "    </tr>\n",
       "  </thead>\n",
       "  <tbody>\n",
       "    <tr>\n",
       "      <th>0</th>\n",
       "      <td>The Bean Trees</td>\n",
       "      <td>To Kill a Mockingbird</td>\n",
       "      <td>NaN</td>\n",
       "      <td>NaN</td>\n",
       "      <td>NaN</td>\n",
       "      <td>NaN</td>\n",
       "      <td>NaN</td>\n",
       "      <td>NaN</td>\n",
       "      <td>NaN</td>\n",
       "      <td>NaN</td>\n",
       "      <td>...</td>\n",
       "      <td>NaN</td>\n",
       "      <td>NaN</td>\n",
       "      <td>NaN</td>\n",
       "      <td>NaN</td>\n",
       "      <td>NaN</td>\n",
       "      <td>NaN</td>\n",
       "      <td>NaN</td>\n",
       "      <td>NaN</td>\n",
       "      <td>NaN</td>\n",
       "      <td>NaN</td>\n",
       "    </tr>\n",
       "    <tr>\n",
       "      <th>1</th>\n",
       "      <td>Angels &amp; Demons</td>\n",
       "      <td>Harry Potter and the Chamber of Secrets (Book 2)</td>\n",
       "      <td>Harry Potter and the Order of the Phoenix (Boo...</td>\n",
       "      <td>Life of Pi</td>\n",
       "      <td>The Da Vinci Code</td>\n",
       "      <td>NaN</td>\n",
       "      <td>NaN</td>\n",
       "      <td>NaN</td>\n",
       "      <td>NaN</td>\n",
       "      <td>NaN</td>\n",
       "      <td>...</td>\n",
       "      <td>NaN</td>\n",
       "      <td>NaN</td>\n",
       "      <td>NaN</td>\n",
       "      <td>NaN</td>\n",
       "      <td>NaN</td>\n",
       "      <td>NaN</td>\n",
       "      <td>NaN</td>\n",
       "      <td>NaN</td>\n",
       "      <td>NaN</td>\n",
       "      <td>NaN</td>\n",
       "    </tr>\n",
       "    <tr>\n",
       "      <th>2</th>\n",
       "      <td>Harry Potter and the Order of the Phoenix (Boo...</td>\n",
       "      <td>Red Dragon</td>\n",
       "      <td>NaN</td>\n",
       "      <td>NaN</td>\n",
       "      <td>NaN</td>\n",
       "      <td>NaN</td>\n",
       "      <td>NaN</td>\n",
       "      <td>NaN</td>\n",
       "      <td>NaN</td>\n",
       "      <td>NaN</td>\n",
       "      <td>...</td>\n",
       "      <td>NaN</td>\n",
       "      <td>NaN</td>\n",
       "      <td>NaN</td>\n",
       "      <td>NaN</td>\n",
       "      <td>NaN</td>\n",
       "      <td>NaN</td>\n",
       "      <td>NaN</td>\n",
       "      <td>NaN</td>\n",
       "      <td>NaN</td>\n",
       "      <td>NaN</td>\n",
       "    </tr>\n",
       "    <tr>\n",
       "      <th>3</th>\n",
       "      <td>A Time to Kill</td>\n",
       "      <td>Harry Potter and the Chamber of Secrets (Book 2)</td>\n",
       "      <td>Harry Potter and the Sorcerers Stone (Book 1)</td>\n",
       "      <td>Jurassic Park</td>\n",
       "      <td>Life of Pi</td>\n",
       "      <td>NaN</td>\n",
       "      <td>NaN</td>\n",
       "      <td>NaN</td>\n",
       "      <td>NaN</td>\n",
       "      <td>NaN</td>\n",
       "      <td>...</td>\n",
       "      <td>NaN</td>\n",
       "      <td>NaN</td>\n",
       "      <td>NaN</td>\n",
       "      <td>NaN</td>\n",
       "      <td>NaN</td>\n",
       "      <td>NaN</td>\n",
       "      <td>NaN</td>\n",
       "      <td>NaN</td>\n",
       "      <td>NaN</td>\n",
       "      <td>NaN</td>\n",
       "    </tr>\n",
       "    <tr>\n",
       "      <th>4</th>\n",
       "      <td>Girl with a Pearl Earring</td>\n",
       "      <td>The Notebook</td>\n",
       "      <td>NaN</td>\n",
       "      <td>NaN</td>\n",
       "      <td>NaN</td>\n",
       "      <td>NaN</td>\n",
       "      <td>NaN</td>\n",
       "      <td>NaN</td>\n",
       "      <td>NaN</td>\n",
       "      <td>NaN</td>\n",
       "      <td>...</td>\n",
       "      <td>NaN</td>\n",
       "      <td>NaN</td>\n",
       "      <td>NaN</td>\n",
       "      <td>NaN</td>\n",
       "      <td>NaN</td>\n",
       "      <td>NaN</td>\n",
       "      <td>NaN</td>\n",
       "      <td>NaN</td>\n",
       "      <td>NaN</td>\n",
       "      <td>NaN</td>\n",
       "    </tr>\n",
       "  </tbody>\n",
       "</table>\n",
       "<p>5 rows × 39 columns</p>\n",
       "</div>"
      ],
      "text/plain": [
       "                                               item0  \\\n",
       "0                                     The Bean Trees   \n",
       "1                                    Angels & Demons   \n",
       "2  Harry Potter and the Order of the Phoenix (Boo...   \n",
       "3                                     A Time to Kill   \n",
       "4                          Girl with a Pearl Earring   \n",
       "\n",
       "                                              item1  \\\n",
       "0                             To Kill a Mockingbird   \n",
       "1  Harry Potter and the Chamber of Secrets (Book 2)   \n",
       "2                                        Red Dragon   \n",
       "3  Harry Potter and the Chamber of Secrets (Book 2)   \n",
       "4                                      The Notebook   \n",
       "\n",
       "                                               item2          item3  \\\n",
       "0                                                NaN            NaN   \n",
       "1  Harry Potter and the Order of the Phoenix (Boo...     Life of Pi   \n",
       "2                                                NaN            NaN   \n",
       "3      Harry Potter and the Sorcerers Stone (Book 1)  Jurassic Park   \n",
       "4                                                NaN            NaN   \n",
       "\n",
       "               item4 item5 item6 item7 item8 item9  ... item29 item30 item31  \\\n",
       "0                NaN   NaN   NaN   NaN   NaN   NaN  ...    NaN    NaN    NaN   \n",
       "1  The Da Vinci Code   NaN   NaN   NaN   NaN   NaN  ...    NaN    NaN    NaN   \n",
       "2                NaN   NaN   NaN   NaN   NaN   NaN  ...    NaN    NaN    NaN   \n",
       "3         Life of Pi   NaN   NaN   NaN   NaN   NaN  ...    NaN    NaN    NaN   \n",
       "4                NaN   NaN   NaN   NaN   NaN   NaN  ...    NaN    NaN    NaN   \n",
       "\n",
       "  item32 item33 item34 item35 item36 item37 item38  \n",
       "0    NaN    NaN    NaN    NaN    NaN    NaN    NaN  \n",
       "1    NaN    NaN    NaN    NaN    NaN    NaN    NaN  \n",
       "2    NaN    NaN    NaN    NaN    NaN    NaN    NaN  \n",
       "3    NaN    NaN    NaN    NaN    NaN    NaN    NaN  \n",
       "4    NaN    NaN    NaN    NaN    NaN    NaN    NaN  \n",
       "\n",
       "[5 rows x 39 columns]"
      ]
     },
     "execution_count": 48,
     "metadata": {},
     "output_type": "execute_result"
    }
   ],
   "source": [
    "cols=[]\n",
    "for i in range(0,39):\n",
    "    cols.append(\"item\"+str(i))\n",
    "\n",
    "df = pd.read_csv(\"mybooks.txt\",sep=\",\",header=None,names = cols)\n",
    "df.head()"
   ]
  },
  {
   "cell_type": "code",
   "execution_count": 49,
   "metadata": {},
   "outputs": [
    {
     "data": {
      "text/plain": [
       "array([nan, 'Where the Heart Is (Oprahs Book Club (Paperback))'],\n",
       "      dtype=object)"
      ]
     },
     "execution_count": 49,
     "metadata": {},
     "output_type": "execute_result"
    }
   ],
   "source": [
    "df['item38'].unique()"
   ]
  },
  {
   "cell_type": "code",
   "execution_count": 50,
   "metadata": {},
   "outputs": [],
   "source": [
    "df = df.fillna(\"empty\") # Fill nan values with 'empty' string"
   ]
  },
  {
   "cell_type": "markdown",
   "metadata": {},
   "source": [
    "### Checcking Logic"
   ]
  },
  {
   "cell_type": "code",
   "execution_count": 51,
   "metadata": {},
   "outputs": [
    {
     "data": {
      "text/html": [
       "<div>\n",
       "<style scoped>\n",
       "    .dataframe tbody tr th:only-of-type {\n",
       "        vertical-align: middle;\n",
       "    }\n",
       "\n",
       "    .dataframe tbody tr th {\n",
       "        vertical-align: top;\n",
       "    }\n",
       "\n",
       "    .dataframe thead th {\n",
       "        text-align: right;\n",
       "    }\n",
       "</style>\n",
       "<table border=\"1\" class=\"dataframe\">\n",
       "  <thead>\n",
       "    <tr style=\"text-align: right;\">\n",
       "      <th></th>\n",
       "      <th>0</th>\n",
       "    </tr>\n",
       "  </thead>\n",
       "  <tbody>\n",
       "    <tr>\n",
       "      <th>item0</th>\n",
       "      <td>The Bean Trees</td>\n",
       "    </tr>\n",
       "    <tr>\n",
       "      <th>item1</th>\n",
       "      <td>To Kill a Mockingbird</td>\n",
       "    </tr>\n",
       "    <tr>\n",
       "      <th>item2</th>\n",
       "      <td>empty</td>\n",
       "    </tr>\n",
       "    <tr>\n",
       "      <th>item3</th>\n",
       "      <td>empty</td>\n",
       "    </tr>\n",
       "    <tr>\n",
       "      <th>item4</th>\n",
       "      <td>empty</td>\n",
       "    </tr>\n",
       "  </tbody>\n",
       "</table>\n",
       "</div>"
      ],
      "text/plain": [
       "                           0\n",
       "item0         The Bean Trees\n",
       "item1  To Kill a Mockingbird\n",
       "item2                  empty\n",
       "item3                  empty\n",
       "item4                  empty"
      ]
     },
     "execution_count": 51,
     "metadata": {},
     "output_type": "execute_result"
    }
   ],
   "source": [
    "df2 = df.iloc[0]\n",
    "df2 = pd.DataFrame(df2)\n",
    "df2.head()"
   ]
  },
  {
   "cell_type": "code",
   "execution_count": 52,
   "metadata": {},
   "outputs": [],
   "source": [
    "import math\n",
    "bookItems = []\n",
    "\n",
    "for index, row in df2.iterrows():\n",
    "    for j in row:\n",
    "        if j!='empty':\n",
    "            bookItems.append(j)\n",
    "    "
   ]
  },
  {
   "cell_type": "code",
   "execution_count": 53,
   "metadata": {},
   "outputs": [
    {
     "data": {
      "text/plain": [
       "['The Bean Trees', 'To Kill a Mockingbird']"
      ]
     },
     "execution_count": 53,
     "metadata": {},
     "output_type": "execute_result"
    }
   ],
   "source": [
    "list(bookItems)"
   ]
  },
  {
   "cell_type": "markdown",
   "metadata": {},
   "source": [
    "## Apply on the dataset"
   ]
  },
  {
   "cell_type": "code",
   "execution_count": 54,
   "metadata": {},
   "outputs": [],
   "source": [
    "# The code below gets all the unique movie names and store them in the list movieItems\n",
    "import math\n",
    "\n",
    "bookItems = []\n",
    "\n",
    "for index, row in df.iterrows(): \n",
    "    for j in row:\n",
    "        if j!='empty' and j not in bookItems:\n",
    "            bookItems.append(j)"
   ]
  },
  {
   "cell_type": "code",
   "execution_count": 55,
   "metadata": {},
   "outputs": [
    {
     "data": {
      "text/plain": [
       "['The Bean Trees',\n",
       " 'To Kill a Mockingbird',\n",
       " 'Angels & Demons',\n",
       " 'Harry Potter and the Chamber of Secrets (Book 2)',\n",
       " 'Harry Potter and the Order of the Phoenix (Book 5)',\n",
       " 'Life of Pi',\n",
       " 'The Da Vinci Code',\n",
       " 'Red Dragon',\n",
       " 'A Time to Kill',\n",
       " 'Harry Potter and the Sorcerers Stone (Book 1)',\n",
       " 'Jurassic Park',\n",
       " 'Girl with a Pearl Earring',\n",
       " 'The Notebook',\n",
       " 'Bridget Joness Diary',\n",
       " 'Fahrenheit 451',\n",
       " 'Interview with the Vampire',\n",
       " 'Divine Secrets of the Ya-Ya Sisterhood: A Novel',\n",
       " 'Shes Come Undone (Oprahs Book Club)',\n",
       " 'The Girls Guide to Hunting and Fishing',\n",
       " 'The Pilots Wife : A Novel',\n",
       " 'The Red Tent (Bestselling Backlist)',\n",
       " 'A Prayer for Owen Meany',\n",
       " 'The Lovely Bones: A Novel',\n",
       " 'Good in Bed',\n",
       " 'Suzannes Diary for Nicholas',\n",
       " 'Timeline',\n",
       " 'The Joy Luck Club',\n",
       " 'Where the Heart Is (Oprahs Book Club (Paperback))',\n",
       " 'The Firm',\n",
       " 'The Pelican Brief',\n",
       " 'Harry Potter and the Goblet of Fire (Book 4)',\n",
       " 'Harry Potter and the Prisoner of Azkaban (Book 3)',\n",
       " 'The Fellowship of the Ring (The Lord of the Rings',\n",
       " ' Part 1)',\n",
       " 'Tuesdays with Morrie: An Old Man',\n",
       " ' a Young Man',\n",
       " ' and Lifes Greatest Lesson',\n",
       " 'The Runaway Jury',\n",
       " 'The Summons',\n",
       " 'Shes Come Undone (Oprahs Book Club (Paperback))',\n",
       " 'Summer Sisters',\n",
       " '1st to Die: A Novel',\n",
       " 'A Painted House',\n",
       " 'The Secret Life of Bees',\n",
       " 'The Testament',\n",
       " 'House of Sand and Fog',\n",
       " 'The Poisonwood Bible: A Novel',\n",
       " 'Snow Falling on Cedars',\n",
       " 'The Catcher in the Rye',\n",
       " 'The Nanny Diaries: A Novel',\n",
       " 'Me Talk Pretty One Day',\n",
       " 'The Five People You Meet in Heaven',\n",
       " 'The Beach House']"
      ]
     },
     "execution_count": 55,
     "metadata": {},
     "output_type": "execute_result"
    }
   ],
   "source": [
    "list(bookItems)"
   ]
  },
  {
   "cell_type": "markdown",
   "metadata": {},
   "source": [
    "## Calculate the Support for individual Items"
   ]
  },
  {
   "cell_type": "code",
   "execution_count": 56,
   "metadata": {},
   "outputs": [],
   "source": [
    "vals = [] \n",
    "for i in range(0,len(bookItems)):\n",
    "    vals.append(0)"
   ]
  },
  {
   "cell_type": "code",
   "execution_count": 57,
   "metadata": {},
   "outputs": [
    {
     "data": {
      "text/plain": [
       "(53, 53)"
      ]
     },
     "execution_count": 57,
     "metadata": {},
     "output_type": "execute_result"
    }
   ],
   "source": [
    "len(bookItems),len(vals)"
   ]
  },
  {
   "cell_type": "code",
   "execution_count": 58,
   "metadata": {},
   "outputs": [],
   "source": [
    "bookDict = dict(zip(bookItems,vals)) "
   ]
  },
  {
   "cell_type": "code",
   "execution_count": 59,
   "metadata": {},
   "outputs": [
    {
     "data": {
      "text/plain": [
       "{'The Bean Trees': 0,\n",
       " 'To Kill a Mockingbird': 0,\n",
       " 'Angels & Demons': 0,\n",
       " 'Harry Potter and the Chamber of Secrets (Book 2)': 0,\n",
       " 'Harry Potter and the Order of the Phoenix (Book 5)': 0,\n",
       " 'Life of Pi': 0,\n",
       " 'The Da Vinci Code': 0,\n",
       " 'Red Dragon': 0,\n",
       " 'A Time to Kill': 0,\n",
       " 'Harry Potter and the Sorcerers Stone (Book 1)': 0,\n",
       " 'Jurassic Park': 0,\n",
       " 'Girl with a Pearl Earring': 0,\n",
       " 'The Notebook': 0,\n",
       " 'Bridget Joness Diary': 0,\n",
       " 'Fahrenheit 451': 0,\n",
       " 'Interview with the Vampire': 0,\n",
       " 'Divine Secrets of the Ya-Ya Sisterhood: A Novel': 0,\n",
       " 'Shes Come Undone (Oprahs Book Club)': 0,\n",
       " 'The Girls Guide to Hunting and Fishing': 0,\n",
       " 'The Pilots Wife : A Novel': 0,\n",
       " 'The Red Tent (Bestselling Backlist)': 0,\n",
       " 'A Prayer for Owen Meany': 0,\n",
       " 'The Lovely Bones: A Novel': 0,\n",
       " 'Good in Bed': 0,\n",
       " 'Suzannes Diary for Nicholas': 0,\n",
       " 'Timeline': 0,\n",
       " 'The Joy Luck Club': 0,\n",
       " 'Where the Heart Is (Oprahs Book Club (Paperback))': 0,\n",
       " 'The Firm': 0,\n",
       " 'The Pelican Brief': 0,\n",
       " 'Harry Potter and the Goblet of Fire (Book 4)': 0,\n",
       " 'Harry Potter and the Prisoner of Azkaban (Book 3)': 0,\n",
       " 'The Fellowship of the Ring (The Lord of the Rings': 0,\n",
       " ' Part 1)': 0,\n",
       " 'Tuesdays with Morrie: An Old Man': 0,\n",
       " ' a Young Man': 0,\n",
       " ' and Lifes Greatest Lesson': 0,\n",
       " 'The Runaway Jury': 0,\n",
       " 'The Summons': 0,\n",
       " 'Shes Come Undone (Oprahs Book Club (Paperback))': 0,\n",
       " 'Summer Sisters': 0,\n",
       " '1st to Die: A Novel': 0,\n",
       " 'A Painted House': 0,\n",
       " 'The Secret Life of Bees': 0,\n",
       " 'The Testament': 0,\n",
       " 'House of Sand and Fog': 0,\n",
       " 'The Poisonwood Bible: A Novel': 0,\n",
       " 'Snow Falling on Cedars': 0,\n",
       " 'The Catcher in the Rye': 0,\n",
       " 'The Nanny Diaries: A Novel': 0,\n",
       " 'Me Talk Pretty One Day': 0,\n",
       " 'The Five People You Meet in Heaven': 0,\n",
       " 'The Beach House': 0}"
      ]
     },
     "execution_count": 59,
     "metadata": {},
     "output_type": "execute_result"
    }
   ],
   "source": [
    "bookDict "
   ]
  },
  {
   "cell_type": "code",
   "execution_count": 60,
   "metadata": {},
   "outputs": [
    {
     "data": {
      "text/plain": [
       "((1850, 39), 1850)"
      ]
     },
     "execution_count": 60,
     "metadata": {},
     "output_type": "execute_result"
    }
   ],
   "source": [
    "df.shape,df.shape[0]"
   ]
  },
  {
   "cell_type": "code",
   "execution_count": 61,
   "metadata": {},
   "outputs": [],
   "source": [
    "   \n",
    "for j in range(0,df.shape[0]):\n",
    "    k = df.iloc[j]\n",
    "    for item in k:\n",
    "        if item!= 'empty':\n",
    "            bookDict[item]+=1"
   ]
  },
  {
   "cell_type": "code",
   "execution_count": 62,
   "metadata": {},
   "outputs": [],
   "source": [
    "bookSupportabsolute = bookDict # Number of times an Item appears, i.e the absolute support"
   ]
  },
  {
   "cell_type": "code",
   "execution_count": 63,
   "metadata": {},
   "outputs": [],
   "source": [
    "# Let's Now calculate the Support\n",
    "\n",
    "bookSupportrelative = {}\n",
    "\n",
    "for i in bookDict:\n",
    "    bookSupportrelative[i] = (bookDict[i]/(df.shape[0]))"
   ]
  },
  {
   "cell_type": "code",
   "execution_count": 64,
   "metadata": {},
   "outputs": [
    {
     "data": {
      "text/plain": [
       "{'The Bean Trees': 0.042702702702702704,\n",
       " 'To Kill a Mockingbird': 0.07351351351351351,\n",
       " 'Angels & Demons': 0.07837837837837838,\n",
       " 'Harry Potter and the Chamber of Secrets (Book 2)': 0.12702702702702703,\n",
       " 'Harry Potter and the Order of the Phoenix (Book 5)': 0.0745945945945946,\n",
       " 'Life of Pi': 0.08486486486486486,\n",
       " 'The Da Vinci Code': 0.12108108108108108,\n",
       " 'Red Dragon': 0.04054054054054054,\n",
       " 'A Time to Kill': 0.05675675675675676,\n",
       " 'Harry Potter and the Sorcerers Stone (Book 1)': 0.15297297297297296,\n",
       " 'Jurassic Park': 0.05081081081081081,\n",
       " 'Girl with a Pearl Earring': 0.06702702702702702,\n",
       " 'The Notebook': 0.055135135135135134,\n",
       " 'Bridget Joness Diary': 0.07081081081081081,\n",
       " 'Fahrenheit 451': 0.043243243243243246,\n",
       " 'Interview with the Vampire': 0.04432432432432432,\n",
       " 'Divine Secrets of the Ya-Ya Sisterhood: A Novel': 0.07351351351351351,\n",
       " 'Shes Come Undone (Oprahs Book Club)': 0.04432432432432432,\n",
       " 'The Girls Guide to Hunting and Fishing': 0.04162162162162162,\n",
       " 'The Pilots Wife : A Novel': 0.057297297297297295,\n",
       " 'The Red Tent (Bestselling Backlist)': 0.08378378378378379,\n",
       " 'A Prayer for Owen Meany': 0.0372972972972973,\n",
       " 'The Lovely Bones: A Novel': 0.15783783783783784,\n",
       " 'Good in Bed': 0.06432432432432432,\n",
       " 'Suzannes Diary for Nicholas': 0.04432432432432432,\n",
       " 'Timeline': 0.03783783783783784,\n",
       " 'The Joy Luck Club': 0.04972972972972973,\n",
       " 'Where the Heart Is (Oprahs Book Club (Paperback))': 0.07405405405405406,\n",
       " 'The Firm': 0.0627027027027027,\n",
       " 'The Pelican Brief': 0.04810810810810811,\n",
       " 'Harry Potter and the Goblet of Fire (Book 4)': 0.10162162162162162,\n",
       " 'Harry Potter and the Prisoner of Azkaban (Book 3)': 0.10918918918918918,\n",
       " 'The Fellowship of the Ring (The Lord of the Rings': 0.05459459459459459,\n",
       " ' Part 1)': 0.05459459459459459,\n",
       " 'Tuesdays with Morrie: An Old Man': 0.06324324324324325,\n",
       " ' a Young Man': 0.06324324324324325,\n",
       " ' and Lifes Greatest Lesson': 0.06324324324324325,\n",
       " 'The Runaway Jury': 0.04378378378378378,\n",
       " 'The Summons': 0.04972972972972973,\n",
       " 'Shes Come Undone (Oprahs Book Club (Paperback))': 0.046486486486486484,\n",
       " 'Summer Sisters': 0.04756756756756757,\n",
       " '1st to Die: A Novel': 0.047027027027027025,\n",
       " 'A Painted House': 0.06918918918918919,\n",
       " 'The Secret Life of Bees': 0.10594594594594595,\n",
       " 'The Testament': 0.044864864864864865,\n",
       " 'House of Sand and Fog': 0.05027027027027027,\n",
       " 'The Poisonwood Bible: A Novel': 0.043243243243243246,\n",
       " 'Snow Falling on Cedars': 0.055675675675675676,\n",
       " 'The Catcher in the Rye': 0.051351351351351354,\n",
       " 'The Nanny Diaries: A Novel': 0.07405405405405406,\n",
       " 'Me Talk Pretty One Day': 0.04864864864864865,\n",
       " 'The Five People You Meet in Heaven': 0.051351351351351354,\n",
       " 'The Beach House': 0.032972972972972976}"
      ]
     },
     "execution_count": 64,
     "metadata": {},
     "output_type": "execute_result"
    }
   ],
   "source": [
    "bookSupportrelative #this gives relative movie support"
   ]
  },
  {
   "cell_type": "code",
   "execution_count": 65,
   "metadata": {},
   "outputs": [],
   "source": [
    "with open(\"oneItems.txt\", 'w') as f: \n",
    "    for key, value in bookSupportabsolute.items(): \n",
    "        f.write('%s:%s\\n' % (value, key))"
   ]
  },
  {
   "cell_type": "code",
   "execution_count": null,
   "metadata": {},
   "outputs": [],
   "source": []
  }
 ],
 "metadata": {
  "kernelspec": {
   "display_name": "Python 3.10.5 64-bit",
   "language": "python",
   "name": "python3"
  },
  "language_info": {
   "codemirror_mode": {
    "name": "ipython",
    "version": 3
   },
   "file_extension": ".py",
   "mimetype": "text/x-python",
   "name": "python",
   "nbconvert_exporter": "python",
   "pygments_lexer": "ipython3",
   "version": "3.10.5"
  },
  "orig_nbformat": 4,
  "vscode": {
   "interpreter": {
    "hash": "369f2c481f4da34e4445cda3fffd2e751bd1c4d706f27375911949ba6bb62e1c"
   }
  }
 },
 "nbformat": 4,
 "nbformat_minor": 2
}
